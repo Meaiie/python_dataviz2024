{
  "nbformat": 4,
  "nbformat_minor": 0,
  "metadata": {
    "colab": {
      "provenance": [],
      "authorship_tag": "ABX9TyP6zMLD0IJ2dh0CzSza0/0J",
      "include_colab_link": true
    },
    "kernelspec": {
      "name": "python3",
      "display_name": "Python 3"
    },
    "language_info": {
      "name": "python"
    }
  },
  "cells": [
    {
      "cell_type": "markdown",
      "metadata": {
        "id": "view-in-github",
        "colab_type": "text"
      },
      "source": [
        "<a href=\"https://colab.research.google.com/github/Meaiie/python_dataviz2024/blob/main/My_first_python_notebook.ipynb\" target=\"_parent\"><img src=\"https://colab.research.google.com/assets/colab-badge.svg\" alt=\"Open In Colab\"/></a>"
      ]
    },
    {
      "cell_type": "code",
      "execution_count": null,
      "metadata": {
        "id": "s8dkHnsESEcb"
      },
      "outputs": [],
      "source": [
        "Basic programming for Data Science & Data Visualization\n",
        "here we use markdown"
      ]
    },
    {
      "cell_type": "code",
      "source": [
        "print('สิริญาพร รสจันทร์')"
      ],
      "metadata": {
        "colab": {
          "base_uri": "https://localhost:8080/"
        },
        "id": "xBWbpq8USSp8",
        "outputId": "d6fc50b8-30e6-44ee-fe4c-3a74be4c2178"
      },
      "execution_count": null,
      "outputs": [
        {
          "output_type": "stream",
          "name": "stdout",
          "text": [
            "สิริญาพร รสจันทร์\n"
          ]
        }
      ]
    },
    {
      "cell_type": "code",
      "source": [
        "print('bang bang born')"
      ],
      "metadata": {
        "colab": {
          "base_uri": "https://localhost:8080/"
        },
        "id": "Nh1N8BwPSu1m",
        "outputId": "c367c40f-1b95-4866-9e1f-a49c2ea6adaa"
      },
      "execution_count": null,
      "outputs": [
        {
          "output_type": "stream",
          "name": "stdout",
          "text": [
            "bang bang born\n"
          ]
        }
      ]
    }
  ]
}